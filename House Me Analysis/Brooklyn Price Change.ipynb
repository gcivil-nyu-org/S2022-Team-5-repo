{
 "cells": [
  {
   "cell_type": "code",
   "execution_count": 1,
   "metadata": {},
   "outputs": [],
   "source": [
    "import numpy as np\n",
    "import pandas as pd\n",
    "\n",
    "import matplotlib.pyplot as plt\n",
    "%matplotlib inline"
   ]
  },
  {
   "cell_type": "code",
   "execution_count": 2,
   "metadata": {},
   "outputs": [],
   "source": [
    "brooklyn2020 = pd.read_csv('2020/2020_brooklyn.csv')\n",
    "brooklyn2019 = pd.read_csv('2019/2019_brooklyn.csv')\n",
    "brooklyn2018 = pd.read_csv('2018/2018_brooklyn.csv')\n",
    "brooklyn2017 = pd.read_csv('2017/2017_brooklyn.csv')\n",
    "brooklyn2016 = pd.read_csv('2016/2016_brooklyn.csv')"
   ]
  },
  {
   "cell_type": "code",
   "execution_count": 3,
   "metadata": {},
   "outputs": [],
   "source": [
    "brooklyn2021 = pd.read_csv('2021/2021_brooklyn.csv')"
   ]
  },
  {
   "cell_type": "code",
   "execution_count": 4,
   "metadata": {},
   "outputs": [],
   "source": [
    "brooklyn2020.columns = ['BOROUGH', 'NEIGHBORHOOD', 'BUILDING CLASS CATEGORY',\n",
    "       'TAX CLASS AT PRESENT', 'BLOCK', 'LOT', 'EASE-MENT',\n",
    "       'BUILDING CLASS AT PRESENT', 'ADDRESS', 'APARTMENT NUMBER',\n",
    "       'ZIP CODE', 'RESIDENTIAL UNITS', 'COMMERCIAL UNITS',\n",
    "       'TOTAL UNITS', 'LAND SQUARE FEET', 'GROSS SQUARE FEET',\n",
    "       'YEAR BUILT', 'TAX CLASS AT TIME OF SALE',\n",
    "       'BUILDING CLASS AT TIME OF SALE', 'SALE PRICE', 'SALE DATE']"
   ]
  },
  {
   "cell_type": "code",
   "execution_count": 5,
   "metadata": {},
   "outputs": [],
   "source": [
    "brooklyn2016.columns = brooklyn2020.columns\n",
    "brooklyn2017.columns = brooklyn2020.columns\n",
    "brooklyn2018.columns = brooklyn2020.columns\n",
    "brooklyn2019.columns = brooklyn2020.columns"
   ]
  },
  {
   "cell_type": "code",
   "execution_count": 6,
   "metadata": {},
   "outputs": [],
   "source": [
    "brooklyn2021.columns = brooklyn2020.columns"
   ]
  },
  {
   "cell_type": "code",
   "execution_count": 7,
   "metadata": {},
   "outputs": [],
   "source": [
    "brooklyn2018 = brooklyn2018.drop(['BOROUGH','NEIGHBORHOOD','BUILDING CLASS CATEGORY',\n",
    "       'TAX CLASS AT PRESENT', 'BLOCK', 'LOT', 'EASE-MENT',\n",
    "       'BUILDING CLASS AT PRESENT', 'ADDRESS', 'APARTMENT NUMBER',\n",
    "       'ZIP CODE', 'RESIDENTIAL UNITS', 'COMMERCIAL UNITS',\n",
    "       'TOTAL UNITS', 'LAND SQUARE FEET', 'GROSS SQUARE FEET',\n",
    "       'YEAR BUILT', 'TAX CLASS AT TIME OF SALE',\n",
    "       'BUILDING CLASS AT TIME OF SALE'], axis = 1)"
   ]
  },
  {
   "cell_type": "code",
   "execution_count": 8,
   "metadata": {},
   "outputs": [],
   "source": [
    "brooklyn2019 = brooklyn2019.drop(['BOROUGH','NEIGHBORHOOD','BUILDING CLASS CATEGORY',\n",
    "       'TAX CLASS AT PRESENT', 'BLOCK', 'LOT', 'EASE-MENT',\n",
    "       'BUILDING CLASS AT PRESENT', 'ADDRESS', 'APARTMENT NUMBER',\n",
    "       'ZIP CODE', 'RESIDENTIAL UNITS', 'COMMERCIAL UNITS',\n",
    "       'TOTAL UNITS', 'LAND SQUARE FEET', 'GROSS SQUARE FEET',\n",
    "       'YEAR BUILT', 'TAX CLASS AT TIME OF SALE',\n",
    "       'BUILDING CLASS AT TIME OF SALE'], axis = 1)\n",
    "\n",
    "brooklyn2017 = brooklyn2017.drop(['BOROUGH','NEIGHBORHOOD','BUILDING CLASS CATEGORY',\n",
    "       'TAX CLASS AT PRESENT', 'BLOCK', 'LOT', 'EASE-MENT',\n",
    "       'BUILDING CLASS AT PRESENT', 'ADDRESS', 'APARTMENT NUMBER',\n",
    "       'ZIP CODE', 'RESIDENTIAL UNITS', 'COMMERCIAL UNITS',\n",
    "       'TOTAL UNITS', 'LAND SQUARE FEET', 'GROSS SQUARE FEET',\n",
    "       'YEAR BUILT', 'TAX CLASS AT TIME OF SALE',\n",
    "       'BUILDING CLASS AT TIME OF SALE'], axis = 1)\n",
    "\n",
    "brooklyn2016 = brooklyn2016.drop(['BOROUGH','NEIGHBORHOOD','BUILDING CLASS CATEGORY',\n",
    "       'TAX CLASS AT PRESENT', 'BLOCK', 'LOT', 'EASE-MENT',\n",
    "       'BUILDING CLASS AT PRESENT', 'ADDRESS', 'APARTMENT NUMBER',\n",
    "       'ZIP CODE', 'RESIDENTIAL UNITS', 'COMMERCIAL UNITS',\n",
    "       'TOTAL UNITS', 'LAND SQUARE FEET', 'GROSS SQUARE FEET',\n",
    "       'YEAR BUILT', 'TAX CLASS AT TIME OF SALE',\n",
    "       'BUILDING CLASS AT TIME OF SALE'], axis = 1)\n",
    "\n",
    "brooklyn2020 = brooklyn2020.drop(['BOROUGH','NEIGHBORHOOD','BUILDING CLASS CATEGORY',\n",
    "       'TAX CLASS AT PRESENT', 'BLOCK', 'LOT', 'EASE-MENT',\n",
    "       'BUILDING CLASS AT PRESENT', 'ADDRESS', 'APARTMENT NUMBER',\n",
    "       'ZIP CODE', 'RESIDENTIAL UNITS', 'COMMERCIAL UNITS',\n",
    "       'TOTAL UNITS', 'LAND SQUARE FEET', 'GROSS SQUARE FEET',\n",
    "       'YEAR BUILT', 'TAX CLASS AT TIME OF SALE',\n",
    "       'BUILDING CLASS AT TIME OF SALE'], axis = 1)"
   ]
  },
  {
   "cell_type": "code",
   "execution_count": 9,
   "metadata": {},
   "outputs": [],
   "source": [
    "brooklyn2021 = brooklyn2021.drop(['BOROUGH','NEIGHBORHOOD','BUILDING CLASS CATEGORY',\n",
    "       'TAX CLASS AT PRESENT', 'BLOCK', 'LOT', 'EASE-MENT',\n",
    "       'BUILDING CLASS AT PRESENT', 'ADDRESS', 'APARTMENT NUMBER',\n",
    "       'ZIP CODE', 'RESIDENTIAL UNITS', 'COMMERCIAL UNITS',\n",
    "       'TOTAL UNITS', 'LAND SQUARE FEET', 'GROSS SQUARE FEET',\n",
    "       'YEAR BUILT', 'TAX CLASS AT TIME OF SALE',\n",
    "       'BUILDING CLASS AT TIME OF SALE'], axis = 1)"
   ]
  },
  {
   "cell_type": "code",
   "execution_count": 10,
   "metadata": {},
   "outputs": [],
   "source": [
    "brooklyn2018['SALE PRICE'] = brooklyn2018['SALE PRICE'].astype(str)\n",
    "brooklyn2018['SALE PRICE'] = brooklyn2018['SALE PRICE'].apply(lambda x: x.replace(',', ''))\n",
    "brooklyn2018['SALE PRICE'] = brooklyn2018['SALE PRICE'].replace(' -   ', '0')\n",
    "#brooklyn2018['SALE PRICE'] = pd.to_numeric(brooklyn2018['SALE PRICE'], errors = 'coerce')"
   ]
  },
  {
   "cell_type": "code",
   "execution_count": 11,
   "metadata": {},
   "outputs": [],
   "source": [
    "brooklyn2018['SALE PRICE'] = brooklyn2018['SALE PRICE'].replace('$', '')"
   ]
  },
  {
   "cell_type": "code",
   "execution_count": 12,
   "metadata": {},
   "outputs": [],
   "source": [
    "brooklyn2018['SALE PRICE'] = pd.to_numeric(brooklyn2018['SALE PRICE'], errors = 'coerce')"
   ]
  },
  {
   "cell_type": "code",
   "execution_count": 13,
   "metadata": {},
   "outputs": [
    {
     "data": {
      "text/plain": [
       "SALE PRICE    0\n",
       "SALE DATE     0\n",
       "dtype: int64"
      ]
     },
     "execution_count": 13,
     "metadata": {},
     "output_type": "execute_result"
    }
   ],
   "source": [
    "brooklyn2018.isnull().sum()"
   ]
  },
  {
   "cell_type": "code",
   "execution_count": 14,
   "metadata": {},
   "outputs": [],
   "source": [
    "brooklyn2019['SALE PRICE'] = brooklyn2019['SALE PRICE'].astype(str)\n",
    "brooklyn2019['SALE PRICE'] = brooklyn2019['SALE PRICE'].apply(lambda x: x.replace(',', ''))\n",
    "brooklyn2019['SALE PRICE'] = brooklyn2019['SALE PRICE'].replace(' -   ', '0')"
   ]
  },
  {
   "cell_type": "code",
   "execution_count": 15,
   "metadata": {},
   "outputs": [],
   "source": [
    "brooklyn2019['SALE PRICE'] = pd.to_numeric(brooklyn2019['SALE PRICE'], errors = 'coerce')"
   ]
  },
  {
   "cell_type": "code",
   "execution_count": 16,
   "metadata": {},
   "outputs": [],
   "source": [
    "brooklyn2020['SALE PRICE'] = brooklyn2020['SALE PRICE'].astype(str)\n",
    "brooklyn2020['SALE PRICE'] = brooklyn2020['SALE PRICE'].apply(lambda x: x.replace(',', ''))\n",
    "brooklyn2020['SALE PRICE'] = brooklyn2020['SALE PRICE'].replace(' -   ', '0')"
   ]
  },
  {
   "cell_type": "code",
   "execution_count": 17,
   "metadata": {},
   "outputs": [],
   "source": [
    "brooklyn2020['SALE PRICE'] = pd.to_numeric(brooklyn2020['SALE PRICE'], errors = 'coerce')"
   ]
  },
  {
   "cell_type": "code",
   "execution_count": 18,
   "metadata": {},
   "outputs": [],
   "source": [
    "brooklyn2017['SALE PRICE'] = brooklyn2017['SALE PRICE'].astype(str)\n",
    "brooklyn2017['SALE PRICE'] = brooklyn2017['SALE PRICE'].apply(lambda x: x.replace(',', ''))\n",
    "brooklyn2017['SALE PRICE'] = brooklyn2017['SALE PRICE'].replace(' -   ', '0')"
   ]
  },
  {
   "cell_type": "code",
   "execution_count": 19,
   "metadata": {},
   "outputs": [],
   "source": [
    "brooklyn2017['SALE PRICE'] = pd.to_numeric(brooklyn2017['SALE PRICE'], errors = 'coerce')"
   ]
  },
  {
   "cell_type": "code",
   "execution_count": 20,
   "metadata": {},
   "outputs": [],
   "source": [
    "brooklyn2016['SALE PRICE'] = brooklyn2016['SALE PRICE'].astype(str)\n",
    "brooklyn2016['SALE PRICE'] = brooklyn2016['SALE PRICE'].apply(lambda x: x.replace(',', ''))\n",
    "brooklyn2016['SALE PRICE'] = brooklyn2016['SALE PRICE'].replace(' -   ', '0')"
   ]
  },
  {
   "cell_type": "code",
   "execution_count": 21,
   "metadata": {},
   "outputs": [],
   "source": [
    "brooklyn2016['SALE PRICE'] = pd.to_numeric(brooklyn2016['SALE PRICE'], errors = 'coerce')"
   ]
  },
  {
   "cell_type": "code",
   "execution_count": 22,
   "metadata": {},
   "outputs": [],
   "source": [
    "brooklyn2021['SALE PRICE'] = brooklyn2021['SALE PRICE'].astype(str)\n",
    "brooklyn2021['SALE PRICE'] = brooklyn2021['SALE PRICE'].apply(lambda x: x.replace(',', ''))\n",
    "brooklyn2021['SALE PRICE'] = brooklyn2021['SALE PRICE'].replace(' -   ', '0')"
   ]
  },
  {
   "cell_type": "code",
   "execution_count": 23,
   "metadata": {},
   "outputs": [],
   "source": [
    "brooklyn2021['SALE PRICE'] = pd.to_numeric(brooklyn2021['SALE PRICE'], errors = 'coerce')"
   ]
  },
  {
   "cell_type": "code",
   "execution_count": 24,
   "metadata": {},
   "outputs": [],
   "source": [
    "brooklynframes = [brooklyn2016,brooklyn2017,brooklyn2018,brooklyn2019,brooklyn2020,brooklyn2021]"
   ]
  },
  {
   "cell_type": "code",
   "execution_count": 25,
   "metadata": {},
   "outputs": [],
   "source": [
    "brooklynmerge = pd.concat(brooklynframes,ignore_index=True)"
   ]
  },
  {
   "cell_type": "code",
   "execution_count": 26,
   "metadata": {},
   "outputs": [
    {
     "data": {
      "text/plain": [
       "SALE PRICE    2201\n",
       "SALE DATE     2201\n",
       "dtype: int64"
      ]
     },
     "execution_count": 26,
     "metadata": {},
     "output_type": "execute_result"
    }
   ],
   "source": [
    "brooklynmerge.isnull().sum()"
   ]
  },
  {
   "cell_type": "code",
   "execution_count": 27,
   "metadata": {},
   "outputs": [],
   "source": [
    "brooklynmerge.dropna(inplace=True)"
   ]
  },
  {
   "cell_type": "code",
   "execution_count": 28,
   "metadata": {},
   "outputs": [
    {
     "data": {
      "text/plain": [
       "array(['5/25/2016', '4/5/2016', '10/6/2016', ..., '5/16/2021',\n",
       "       '10/24/2021', '10/31/2021'], dtype=object)"
      ]
     },
     "execution_count": 28,
     "metadata": {},
     "output_type": "execute_result"
    }
   ],
   "source": [
    "brooklynmerge['SALE DATE'].unique()"
   ]
  },
  {
   "cell_type": "code",
   "execution_count": 29,
   "metadata": {},
   "outputs": [],
   "source": [
    "from datetime import datetime\n",
    "brooklynmerge['SALE YEAR'] = pd.to_datetime(brooklynmerge['SALE DATE']).dt.year "
   ]
  },
  {
   "cell_type": "code",
   "execution_count": 30,
   "metadata": {},
   "outputs": [
    {
     "data": {
      "text/plain": [
       "array([2016, 2017, 2018, 2019, 2020, 2021])"
      ]
     },
     "execution_count": 30,
     "metadata": {},
     "output_type": "execute_result"
    }
   ],
   "source": [
    "brooklynmerge['SALE YEAR'].unique()"
   ]
  },
  {
   "cell_type": "code",
   "execution_count": 31,
   "metadata": {},
   "outputs": [],
   "source": [
    "import statistics"
   ]
  },
  {
   "cell_type": "code",
   "execution_count": 32,
   "metadata": {},
   "outputs": [
    {
     "data": {
      "text/plain": [
       "326989.0"
      ]
     },
     "execution_count": 32,
     "metadata": {},
     "output_type": "execute_result"
    }
   ],
   "source": [
    "statistics.median(brooklynmerge['SALE PRICE'][brooklynmerge['SALE YEAR']== 2016])"
   ]
  },
  {
   "cell_type": "code",
   "execution_count": 33,
   "metadata": {},
   "outputs": [
    {
     "data": {
      "text/plain": [
       "SALE PRICE    21964\n",
       "SALE DATE     21964\n",
       "SALE YEAR     21964\n",
       "dtype: int64"
      ]
     },
     "execution_count": 33,
     "metadata": {},
     "output_type": "execute_result"
    }
   ],
   "source": [
    "brooklynmerge[brooklynmerge['SALE YEAR']== 2021].count()"
   ]
  },
  {
   "cell_type": "code",
   "execution_count": null,
   "metadata": {},
   "outputs": [],
   "source": []
  },
  {
   "cell_type": "code",
   "execution_count": null,
   "metadata": {},
   "outputs": [],
   "source": []
  },
  {
   "cell_type": "code",
   "execution_count": 34,
   "metadata": {},
   "outputs": [],
   "source": [
    "brooklynmerge['SALE PRICE'] = brooklynmerge['SALE PRICE'].astype(float).div(1000000)\n",
    "df = brooklynmerge.groupby(['SALE YEAR']).sum().reset_index()"
   ]
  },
  {
   "cell_type": "code",
   "execution_count": 35,
   "metadata": {},
   "outputs": [
    {
     "data": {
      "image/png": "[encoded data removed]",
      "text/plain": [
       "<Figure size 504x504 with 1 Axes>"
      ]
     },
     "metadata": {
      "needs_background": "light"
     },
     "output_type": "display_data"
    }
   ],
   "source": [
    "plt.figure(figsize=(7,7))\n",
    "plt.title('How Prices Have Changed in Brooklyn from 2016-2021')\n",
    "plt.xlabel('YEAR')\n",
    "plt.ylabel('Prices in Millions')\n",
    "plt.bar(df['SALE YEAR'],df['SALE PRICE'], color = 'b')\n",
    "plt.xticks(rotation=0)\n",
    "plt.savefig('Brooklyn',bbox_inches='tight')\n",
    "plt.show()"
   ]
  },
  {
   "cell_type": "code",
   "execution_count": null,
   "metadata": {},
   "outputs": [],
   "source": []
  }
 ],
 "metadata": {
  "kernelspec": {
   "display_name": "Python 3",
   "language": "python",
   "name": "python3"
  },
  "language_info": {
   "codemirror_mode": {
    "name": "ipython",
    "version": 3
   },
   "file_extension": ".py",
   "mimetype": "text/x-python",
   "name": "python",
   "nbconvert_exporter": "python",
   "pygments_lexer": "ipython3",
   "version": "3.8.5"
  }
 },
 "nbformat": 4,
 "nbformat_minor": 2
}
