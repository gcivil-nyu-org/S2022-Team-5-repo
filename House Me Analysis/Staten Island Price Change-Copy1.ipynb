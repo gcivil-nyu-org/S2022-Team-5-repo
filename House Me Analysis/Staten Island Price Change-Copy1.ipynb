{
 "cells": [
  {
   "cell_type": "code",
   "execution_count": 1,
   "metadata": {},
   "outputs": [],
   "source": [
    "import numpy as np\n",
    "import pandas as pd\n",
    "\n",
    "import matplotlib.pyplot as plt\n",
    "%matplotlib inline"
   ]
  },
  {
   "cell_type": "code",
   "execution_count": 2,
   "metadata": {},
   "outputs": [],
   "source": [
    "statenisland2020 = pd.read_csv('2020/2020_staten_island.csv')\n",
    "statenisland2019 = pd.read_csv('2019/2019_statenisland.csv')\n",
    "statenisland2018 = pd.read_csv('2018/2018_statenisland.csv')\n",
    "statenisland2017 = pd.read_csv('2017/2017_statenisland.csv')\n",
    "statenisland2016 = pd.read_csv('2016/2016_statenisland.csv')"
   ]
  },
  {
   "cell_type": "code",
   "execution_count": 3,
   "metadata": {},
   "outputs": [],
   "source": [
    "statenisland2021 = pd.read_csv('2021/2021_statenisland.csv')"
   ]
  },
  {
   "cell_type": "code",
   "execution_count": 4,
   "metadata": {},
   "outputs": [],
   "source": [
    "statenisland2020.columns = ['BOROUGH', 'NEIGHBORHOOD', 'BUILDING CLASS CATEGORY',\n",
    "       'TAX CLASS AT PRESENT', 'BLOCK', 'LOT', 'EASE-MENT',\n",
    "       'BUILDING CLASS AT PRESENT', 'ADDRESS', 'APARTMENT NUMBER',\n",
    "       'ZIP CODE', 'RESIDENTIAL UNITS', 'COMMERCIAL UNITS',\n",
    "       'TOTAL UNITS', 'LAND SQUARE FEET', 'GROSS SQUARE FEET',\n",
    "       'YEAR BUILT', 'TAX CLASS AT TIME OF SALE',\n",
    "       'BUILDING CLASS AT TIME OF SALE', 'SALE PRICE', 'SALE DATE']"
   ]
  },
  {
   "cell_type": "code",
   "execution_count": 5,
   "metadata": {},
   "outputs": [],
   "source": [
    "statenisland2016.columns = statenisland2020.columns\n",
    "statenisland2017.columns = statenisland2020.columns\n",
    "statenisland2018.columns = statenisland2020.columns\n",
    "statenisland2019.columns = statenisland2020.columns"
   ]
  },
  {
   "cell_type": "code",
   "execution_count": 6,
   "metadata": {},
   "outputs": [],
   "source": [
    "statenisland2021.columns = statenisland2020.columns"
   ]
  },
  {
   "cell_type": "code",
   "execution_count": 7,
   "metadata": {},
   "outputs": [],
   "source": [
    "statenisland2018 = statenisland2018.drop(['BOROUGH','NEIGHBORHOOD','BUILDING CLASS CATEGORY',\n",
    "       'TAX CLASS AT PRESENT', 'BLOCK', 'LOT', 'EASE-MENT',\n",
    "       'BUILDING CLASS AT PRESENT', 'ADDRESS', 'APARTMENT NUMBER',\n",
    "       'ZIP CODE', 'RESIDENTIAL UNITS', 'COMMERCIAL UNITS',\n",
    "       'TOTAL UNITS', 'LAND SQUARE FEET', 'GROSS SQUARE FEET',\n",
    "       'YEAR BUILT', 'TAX CLASS AT TIME OF SALE',\n",
    "       'BUILDING CLASS AT TIME OF SALE'], axis = 1)"
   ]
  },
  {
   "cell_type": "code",
   "execution_count": 8,
   "metadata": {},
   "outputs": [],
   "source": [
    "statenisland2019 = statenisland2019.drop(['BOROUGH','NEIGHBORHOOD','BUILDING CLASS CATEGORY',\n",
    "       'TAX CLASS AT PRESENT', 'BLOCK', 'LOT', 'EASE-MENT',\n",
    "       'BUILDING CLASS AT PRESENT', 'ADDRESS', 'APARTMENT NUMBER',\n",
    "       'ZIP CODE', 'RESIDENTIAL UNITS', 'COMMERCIAL UNITS',\n",
    "       'TOTAL UNITS', 'LAND SQUARE FEET', 'GROSS SQUARE FEET',\n",
    "       'YEAR BUILT', 'TAX CLASS AT TIME OF SALE',\n",
    "       'BUILDING CLASS AT TIME OF SALE'], axis = 1)\n",
    "\n",
    "statenisland2017 = statenisland2017.drop(['BOROUGH','NEIGHBORHOOD','BUILDING CLASS CATEGORY',\n",
    "       'TAX CLASS AT PRESENT', 'BLOCK', 'LOT', 'EASE-MENT',\n",
    "       'BUILDING CLASS AT PRESENT', 'ADDRESS', 'APARTMENT NUMBER',\n",
    "       'ZIP CODE', 'RESIDENTIAL UNITS', 'COMMERCIAL UNITS',\n",
    "       'TOTAL UNITS', 'LAND SQUARE FEET', 'GROSS SQUARE FEET',\n",
    "       'YEAR BUILT', 'TAX CLASS AT TIME OF SALE',\n",
    "       'BUILDING CLASS AT TIME OF SALE'], axis = 1)\n",
    "\n",
    "statenisland2016 = statenisland2016.drop(['BOROUGH','NEIGHBORHOOD','BUILDING CLASS CATEGORY',\n",
    "       'TAX CLASS AT PRESENT', 'BLOCK', 'LOT', 'EASE-MENT',\n",
    "       'BUILDING CLASS AT PRESENT', 'ADDRESS', 'APARTMENT NUMBER',\n",
    "       'ZIP CODE', 'RESIDENTIAL UNITS', 'COMMERCIAL UNITS',\n",
    "       'TOTAL UNITS', 'LAND SQUARE FEET', 'GROSS SQUARE FEET',\n",
    "       'YEAR BUILT', 'TAX CLASS AT TIME OF SALE',\n",
    "       'BUILDING CLASS AT TIME OF SALE'], axis = 1)\n",
    "\n",
    "statenisland2020 = statenisland2020.drop(['BOROUGH','NEIGHBORHOOD','BUILDING CLASS CATEGORY',\n",
    "       'TAX CLASS AT PRESENT', 'BLOCK', 'LOT', 'EASE-MENT',\n",
    "       'BUILDING CLASS AT PRESENT', 'ADDRESS', 'APARTMENT NUMBER',\n",
    "       'ZIP CODE', 'RESIDENTIAL UNITS', 'COMMERCIAL UNITS',\n",
    "       'TOTAL UNITS', 'LAND SQUARE FEET', 'GROSS SQUARE FEET',\n",
    "       'YEAR BUILT', 'TAX CLASS AT TIME OF SALE',\n",
    "       'BUILDING CLASS AT TIME OF SALE'], axis = 1)"
   ]
  },
  {
   "cell_type": "code",
   "execution_count": 9,
   "metadata": {},
   "outputs": [],
   "source": [
    "statenisland2021 = statenisland2021.drop(['BOROUGH','NEIGHBORHOOD','BUILDING CLASS CATEGORY',\n",
    "       'TAX CLASS AT PRESENT', 'BLOCK', 'LOT', 'EASE-MENT',\n",
    "       'BUILDING CLASS AT PRESENT', 'ADDRESS', 'APARTMENT NUMBER',\n",
    "       'ZIP CODE', 'RESIDENTIAL UNITS', 'COMMERCIAL UNITS',\n",
    "       'TOTAL UNITS', 'LAND SQUARE FEET', 'GROSS SQUARE FEET',\n",
    "       'YEAR BUILT', 'TAX CLASS AT TIME OF SALE',\n",
    "       'BUILDING CLASS AT TIME OF SALE'], axis = 1)"
   ]
  },
  {
   "cell_type": "code",
   "execution_count": 10,
   "metadata": {},
   "outputs": [],
   "source": [
    "statenisland2018['SALE PRICE'] = statenisland2018['SALE PRICE'].astype(str)\n",
    "statenisland2018['SALE PRICE'] = statenisland2018['SALE PRICE'].apply(lambda x: x.replace(',', ''))\n",
    "statenisland2018['SALE PRICE'] = statenisland2018['SALE PRICE'].replace(' -   ', '0')\n",
    "#statenisland2018['SALE PRICE'] = pd.to_numeric(statenisland2018['SALE PRICE'], errors = 'coerce')"
   ]
  },
  {
   "cell_type": "code",
   "execution_count": 11,
   "metadata": {},
   "outputs": [],
   "source": [
    "statenisland2018['SALE PRICE'] = statenisland2018['SALE PRICE'].replace('$', '')"
   ]
  },
  {
   "cell_type": "code",
   "execution_count": 12,
   "metadata": {},
   "outputs": [],
   "source": [
    "statenisland2018['SALE PRICE'] = pd.to_numeric(statenisland2018['SALE PRICE'], errors = 'coerce')"
   ]
  },
  {
   "cell_type": "code",
   "execution_count": 13,
   "metadata": {},
   "outputs": [
    {
     "data": {
      "text/plain": [
       "SALE PRICE    0\n",
       "SALE DATE     0\n",
       "dtype: int64"
      ]
     },
     "execution_count": 13,
     "metadata": {},
     "output_type": "execute_result"
    }
   ],
   "source": [
    "statenisland2018.isnull().sum()"
   ]
  },
  {
   "cell_type": "code",
   "execution_count": 14,
   "metadata": {},
   "outputs": [],
   "source": [
    "statenisland2019['SALE PRICE'] = statenisland2019['SALE PRICE'].astype(str)\n",
    "statenisland2019['SALE PRICE'] = statenisland2019['SALE PRICE'].apply(lambda x: x.replace(',', ''))\n",
    "statenisland2019['SALE PRICE'] = statenisland2019['SALE PRICE'].replace(' -   ', '0')"
   ]
  },
  {
   "cell_type": "code",
   "execution_count": 15,
   "metadata": {},
   "outputs": [],
   "source": [
    "statenisland2019['SALE PRICE'] = pd.to_numeric(statenisland2019['SALE PRICE'], errors = 'coerce')"
   ]
  },
  {
   "cell_type": "code",
   "execution_count": 16,
   "metadata": {},
   "outputs": [],
   "source": [
    "statenisland2021['SALE PRICE'] = statenisland2021['SALE PRICE'].astype(str)\n",
    "statenisland2021['SALE PRICE'] = statenisland2021['SALE PRICE'].apply(lambda x: x.replace(',', ''))\n",
    "statenisland2021['SALE PRICE'] = statenisland2021['SALE PRICE'].replace(' -   ', '0')"
   ]
  },
  {
   "cell_type": "code",
   "execution_count": 17,
   "metadata": {},
   "outputs": [],
   "source": [
    "statenisland2021['SALE PRICE'] = pd.to_numeric(statenisland2021['SALE PRICE'], errors = 'coerce')"
   ]
  },
  {
   "cell_type": "code",
   "execution_count": 18,
   "metadata": {},
   "outputs": [],
   "source": [
    "statenisland2020['SALE PRICE'] = statenisland2020['SALE PRICE'].astype(str)\n",
    "statenisland2020['SALE PRICE'] = statenisland2020['SALE PRICE'].apply(lambda x: x.replace(',', ''))\n",
    "statenisland2020['SALE PRICE'] = statenisland2020['SALE PRICE'].replace(' -   ', '0')"
   ]
  },
  {
   "cell_type": "code",
   "execution_count": 19,
   "metadata": {},
   "outputs": [],
   "source": [
    "statenisland2020['SALE PRICE'] = pd.to_numeric(statenisland2020['SALE PRICE'], errors = 'coerce')"
   ]
  },
  {
   "cell_type": "code",
   "execution_count": 20,
   "metadata": {},
   "outputs": [],
   "source": [
    "statenisland2017['SALE PRICE'] = statenisland2017['SALE PRICE'].astype(str)\n",
    "statenisland2017['SALE PRICE'] = statenisland2017['SALE PRICE'].apply(lambda x: x.replace(',', ''))\n",
    "statenisland2017['SALE PRICE'] = statenisland2017['SALE PRICE'].replace(' -   ', '0')"
   ]
  },
  {
   "cell_type": "code",
   "execution_count": 21,
   "metadata": {},
   "outputs": [],
   "source": [
    "statenisland2017['SALE PRICE'] = pd.to_numeric(statenisland2017['SALE PRICE'], errors = 'coerce')"
   ]
  },
  {
   "cell_type": "code",
   "execution_count": 22,
   "metadata": {},
   "outputs": [],
   "source": [
    "statenisland2016['SALE PRICE'] = statenisland2016['SALE PRICE'].astype(str)\n",
    "statenisland2016['SALE PRICE'] = statenisland2016['SALE PRICE'].apply(lambda x: x.replace(',', ''))\n",
    "statenisland2016['SALE PRICE'] = statenisland2016['SALE PRICE'].replace(' -   ', '0')"
   ]
  },
  {
   "cell_type": "code",
   "execution_count": 23,
   "metadata": {},
   "outputs": [],
   "source": [
    "statenisland2016['SALE PRICE'] = pd.to_numeric(statenisland2016['SALE PRICE'], errors = 'coerce')"
   ]
  },
  {
   "cell_type": "code",
   "execution_count": 24,
   "metadata": {},
   "outputs": [],
   "source": [
    "statenislandframes = [statenisland2016,statenisland2017,statenisland2018,statenisland2019,statenisland2020,statenisland2021]"
   ]
  },
  {
   "cell_type": "code",
   "execution_count": 25,
   "metadata": {},
   "outputs": [],
   "source": [
    "statenislandmerge = pd.concat(statenislandframes,ignore_index=True)"
   ]
  },
  {
   "cell_type": "code",
   "execution_count": 26,
   "metadata": {},
   "outputs": [
    {
     "data": {
      "text/plain": [
       "SALE PRICE    49693\n",
       "SALE DATE     49693\n",
       "dtype: int64"
      ]
     },
     "execution_count": 26,
     "metadata": {},
     "output_type": "execute_result"
    }
   ],
   "source": [
    "statenislandmerge.isnull().sum()"
   ]
  },
  {
   "cell_type": "code",
   "execution_count": 27,
   "metadata": {},
   "outputs": [],
   "source": [
    "statenislandmerge.dropna(inplace=True)"
   ]
  },
  {
   "cell_type": "code",
   "execution_count": 28,
   "metadata": {},
   "outputs": [
    {
     "data": {
      "text/plain": [
       "array(['4/21/2016', '5/4/2016', '8/10/2016', ..., '11/21/2020',\n",
       "       '7/18/2021', '5/30/2021'], dtype=object)"
      ]
     },
     "execution_count": 28,
     "metadata": {},
     "output_type": "execute_result"
    }
   ],
   "source": [
    "statenislandmerge['SALE DATE'].unique()"
   ]
  },
  {
   "cell_type": "code",
   "execution_count": 29,
   "metadata": {},
   "outputs": [],
   "source": [
    "from datetime import datetime\n",
    "statenislandmerge['SALE YEAR'] = pd.to_datetime(statenislandmerge['SALE DATE']).dt.year "
   ]
  },
  {
   "cell_type": "code",
   "execution_count": 30,
   "metadata": {},
   "outputs": [
    {
     "data": {
      "text/plain": [
       "array([2016, 2017, 2018, 2019, 2020, 2021])"
      ]
     },
     "execution_count": 30,
     "metadata": {},
     "output_type": "execute_result"
    }
   ],
   "source": [
    "statenislandmerge['SALE YEAR'].unique()"
   ]
  },
  {
   "cell_type": "code",
   "execution_count": 31,
   "metadata": {},
   "outputs": [],
   "source": [
    "import statistics"
   ]
  },
  {
   "cell_type": "code",
   "execution_count": 32,
   "metadata": {},
   "outputs": [
    {
     "data": {
      "text/plain": [
       "430000.0"
      ]
     },
     "execution_count": 32,
     "metadata": {},
     "output_type": "execute_result"
    }
   ],
   "source": [
    "statistics.median(statenislandmerge['SALE PRICE'][statenislandmerge['SALE YEAR']== 2020])"
   ]
  },
  {
   "cell_type": "code",
   "execution_count": 33,
   "metadata": {},
   "outputs": [
    {
     "data": {
      "text/plain": [
       "SALE PRICE    1.22e+08\n",
       "SALE DATE     9/9/2016\n",
       "SALE YEAR         2016\n",
       "dtype: object"
      ]
     },
     "execution_count": 33,
     "metadata": {},
     "output_type": "execute_result"
    }
   ],
   "source": [
    "statenislandmerge[statenislandmerge['SALE YEAR']== 2016].max()"
   ]
  },
  {
   "cell_type": "code",
   "execution_count": null,
   "metadata": {},
   "outputs": [],
   "source": []
  },
  {
   "cell_type": "code",
   "execution_count": null,
   "metadata": {},
   "outputs": [],
   "source": []
  },
  {
   "cell_type": "code",
   "execution_count": null,
   "metadata": {},
   "outputs": [],
   "source": []
  },
  {
   "cell_type": "code",
   "execution_count": null,
   "metadata": {},
   "outputs": [],
   "source": []
  },
  {
   "cell_type": "code",
   "execution_count": null,
   "metadata": {},
   "outputs": [],
   "source": []
  },
  {
   "cell_type": "code",
   "execution_count": null,
   "metadata": {},
   "outputs": [],
   "source": []
  },
  {
   "cell_type": "code",
   "execution_count": 34,
   "metadata": {},
   "outputs": [],
   "source": [
    "statenislandmerge['SALE PRICE'] = statenislandmerge['SALE PRICE'].astype(float).div(1000000)\n",
    "df = statenislandmerge.groupby(['SALE YEAR']).sum().reset_index()"
   ]
  },
  {
   "cell_type": "code",
   "execution_count": 35,
   "metadata": {},
   "outputs": [
    {
     "data": {
      "image/png": "[encoded data removed]",
      "text/plain": [
       "<Figure size 720x504 with 1 Axes>"
      ]
     },
     "metadata": {
      "needs_background": "light"
     },
     "output_type": "display_data"
    }
   ],
   "source": [
    "plt.figure(figsize=(10,7))\n",
    "plt.title('How Prices Have Changed in Staten Island from 2016-2021')\n",
    "plt.xlabel('YEAR')\n",
    "plt.ylabel('Prices in Millions')\n",
    "plt.bar(df['SALE YEAR'],df['SALE PRICE'], color = 'm')\n",
    "plt.xticks(rotation=0)\n",
    "plt.savefig('Staten Island',bbox_inches='tight')\n",
    "plt.show()"
   ]
  },
  {
   "cell_type": "code",
   "execution_count": null,
   "metadata": {},
   "outputs": [],
   "source": []
  }
 ],
 "metadata": {
  "kernelspec": {
   "display_name": "Python 3",
   "language": "python",
   "name": "python3"
  },
  "language_info": {
   "codemirror_mode": {
    "name": "ipython",
    "version": 3
   },
   "file_extension": ".py",
   "mimetype": "text/x-python",
   "name": "python",
   "nbconvert_exporter": "python",
   "pygments_lexer": "ipython3",
   "version": "3.8.5"
  }
 },
 "nbformat": 4,
 "nbformat_minor": 2
}
